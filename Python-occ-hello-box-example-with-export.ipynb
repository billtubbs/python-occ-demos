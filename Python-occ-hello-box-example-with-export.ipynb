{
 "cells": [
  {
   "cell_type": "markdown",
   "id": "6ec18a35",
   "metadata": {},
   "source": [
    "# Hello Box Example"
   ]
  },
  {
   "cell_type": "code",
   "execution_count": 1,
   "id": "cece4c60",
   "metadata": {},
   "outputs": [
    {
     "data": {
      "text/plain": [
       "'3.9.13'"
      ]
     },
     "execution_count": 1,
     "metadata": {},
     "output_type": "execute_result"
    }
   ],
   "source": [
    "import os\n",
    "from platform import python_version\n",
    "python_version()"
   ]
  },
  {
   "cell_type": "code",
   "execution_count": 2,
   "id": "eff08e07",
   "metadata": {},
   "outputs": [],
   "source": [
    "from OCC.Core.BRepPrimAPI import BRepPrimAPI_MakeBox\n",
    "from OCC.Display.SimpleGui import init_display"
   ]
  },
  {
   "cell_type": "code",
   "execution_count": 3,
   "id": "cd1c7106",
   "metadata": {},
   "outputs": [
    {
     "name": "stdout",
     "output_type": "stream",
     "text": [
      "qt-pyqt5 backend - Qt version 5.15.2\n"
     ]
    }
   ],
   "source": [
    "display, start_display, add_menu, add_function_to_menu = init_display()\n",
    "\n",
    "my_box = BRepPrimAPI_MakeBox(10.,20.,30.).Shape()\n",
    "\n",
    "display.DisplayShape(my_box, update=True )\n",
    "start_display()\n"
   ]
  },
  {
   "cell_type": "markdown",
   "id": "4e7c8d2e",
   "metadata": {},
   "source": [
    "# Save to STEP file"
   ]
  },
  {
   "cell_type": "code",
   "execution_count": 12,
   "id": "11416d78",
   "metadata": {},
   "outputs": [],
   "source": [
    "from OCC.Core.STEPControl import STEPControl_Writer"
   ]
  },
  {
   "cell_type": "code",
   "execution_count": 22,
   "id": "462c8f97",
   "metadata": {},
   "outputs": [
    {
     "name": "stdout",
     "output_type": "stream",
     "text": [
      "Shape saved to file 'mybox.stp'\n"
     ]
    }
   ],
   "source": [
    "output_file = 'mybox.stp'   # output X3D file\n",
    "stp_writer = STEPControl_Writer()\n",
    "stp_writer.Write(output_file)\n",
    "print(f\"Shape saved to file '{output_file}'\")"
   ]
  },
  {
   "cell_type": "code",
   "execution_count": 20,
   "id": "4577a86f",
   "metadata": {},
   "outputs": [
    {
     "data": {
      "text/plain": [
       "<class 'StepData_StepModel'>"
      ]
     },
     "execution_count": 20,
     "metadata": {},
     "output_type": "execute_result"
    }
   ],
   "source": [
    "stp_writer.Model()"
   ]
  },
  {
   "cell_type": "code",
   "execution_count": 24,
   "id": "7a180c47",
   "metadata": {},
   "outputs": [
    {
     "data": {
      "text/plain": [
       "<class 'STEPControl_Writer'>"
      ]
     },
     "execution_count": 24,
     "metadata": {},
     "output_type": "execute_result"
    }
   ],
   "source": [
    "stp_writer"
   ]
  },
  {
   "cell_type": "markdown",
   "id": "04fcae2c",
   "metadata": {},
   "source": [
    "## Save to STL file"
   ]
  },
  {
   "cell_type": "code",
   "execution_count": 6,
   "id": "571646fa",
   "metadata": {},
   "outputs": [],
   "source": [
    "from OCC.Core.StlAPI import StlAPI_Writer"
   ]
  },
  {
   "cell_type": "code",
   "execution_count": 7,
   "id": "29e4b3d2",
   "metadata": {},
   "outputs": [
    {
     "name": "stdout",
     "output_type": "stream",
     "text": [
      "Shape saved to file 'mybox.stl'\n"
     ]
    }
   ],
   "source": [
    "output_file = 'mybox.stl'   # output X3D file\n",
    "stl_writer = StlAPI_Writer()\n",
    "stl_writer.SetASCIIMode(True)\n",
    "stl_writer.Write(my_box, output_file)\n",
    "print(f\"Shape saved to file '{output_file}'\")"
   ]
  },
  {
   "cell_type": "code",
   "execution_count": 8,
   "id": "7d7a9729",
   "metadata": {},
   "outputs": [
    {
     "data": {
      "text/plain": [
       "['mybox.stl',\n",
       " 'Untitled.ipynb',\n",
       " 'Hello-Box-Example-to-STL.ipynb',\n",
       " '.ipynb_checkpoints']"
      ]
     },
     "execution_count": 8,
     "metadata": {},
     "output_type": "execute_result"
    }
   ],
   "source": [
    "os.listdir()"
   ]
  },
  {
   "cell_type": "markdown",
   "id": "78137941",
   "metadata": {},
   "source": [
    "# Read STEP file"
   ]
  },
  {
   "cell_type": "code",
   "execution_count": 29,
   "id": "ccd05bb3",
   "metadata": {},
   "outputs": [],
   "source": [
    "from OCC.Core.STEPControl import STEPControl_Reader\n",
    "from OCC.Core.IFSelect import IFSelect_RetDone, IFSelect_ItemsByEntity"
   ]
  },
  {
   "cell_type": "code",
   "execution_count": 31,
   "id": "de2a843a",
   "metadata": {},
   "outputs": [
    {
     "ename": "RuntimeError",
     "evalue": "Standard_OutOfRangeNCollection_Sequence::Value raised from method Shape of class XSControl_Reader",
     "output_type": "error",
     "traceback": [
      "\u001b[0;31m---------------------------------------------------------------------------\u001b[0m",
      "\u001b[0;31mRuntimeError\u001b[0m                              Traceback (most recent call last)",
      "Cell \u001b[0;32mIn [31], line 10\u001b[0m\n\u001b[1;32m      8\u001b[0m     step_reader\u001b[38;5;241m.\u001b[39mPrintCheckLoad(failsonly, IFSelect_ItemsByEntity)\n\u001b[1;32m      9\u001b[0m     step_reader\u001b[38;5;241m.\u001b[39mPrintCheckTransfer(failsonly, IFSelect_ItemsByEntity)\n\u001b[0;32m---> 10\u001b[0m     aResShape \u001b[38;5;241m=\u001b[39m step_reader\u001b[38;5;241m.\u001b[39mShape(\u001b[38;5;241m1\u001b[39m)\n\u001b[1;32m     11\u001b[0m \u001b[38;5;28;01melse\u001b[39;00m:\n\u001b[1;32m     12\u001b[0m     \u001b[38;5;28mprint\u001b[39m(\u001b[38;5;124m\"\u001b[39m\u001b[38;5;124mError: can\u001b[39m\u001b[38;5;124m'\u001b[39m\u001b[38;5;124mt read file.\u001b[39m\u001b[38;5;124m\"\u001b[39m)\n",
      "File \u001b[0;32m~/opt/anaconda3/envs/occ/lib/python3.9/site-packages/OCC/Core/XSControl.py:1249\u001b[0m, in \u001b[0;36mXSControl_Reader.Shape\u001b[0;34m(self, *args)\u001b[0m\n\u001b[1;32m   1235\u001b[0m \u001b[38;5;28;01mdef\u001b[39;00m \u001b[38;5;21mShape\u001b[39m(\u001b[38;5;28mself\u001b[39m, \u001b[38;5;241m*\u001b[39margs) \u001b[38;5;241m-\u001b[39m\u001b[38;5;241m>\u001b[39m \u001b[38;5;124m\"\u001b[39m\u001b[38;5;124mTopoDS_Shape\u001b[39m\u001b[38;5;124m\"\u001b[39m:\n\u001b[1;32m   1236\u001b[0m     \u001b[38;5;124mr\u001b[39m\u001b[38;5;124;03m\"\"\"\u001b[39;00m\n\u001b[1;32m   1237\u001b[0m \u001b[38;5;124;03m    Returns the shape resulting from a translation and identified by the rank num. num equals 1 by default. in other words, the first shape resulting from the translation is returned.\u001b[39;00m\n\u001b[1;32m   1238\u001b[0m \n\u001b[0;32m   (...)\u001b[0m\n\u001b[1;32m   1247\u001b[0m \n\u001b[1;32m   1248\u001b[0m \u001b[38;5;124;03m    \"\"\"\u001b[39;00m\n\u001b[0;32m-> 1249\u001b[0m     \u001b[38;5;28;01mreturn\u001b[39;00m \u001b[43m_XSControl\u001b[49m\u001b[38;5;241;43m.\u001b[39;49m\u001b[43mXSControl_Reader_Shape\u001b[49m\u001b[43m(\u001b[49m\u001b[38;5;28;43mself\u001b[39;49m\u001b[43m,\u001b[49m\u001b[43m \u001b[49m\u001b[38;5;241;43m*\u001b[39;49m\u001b[43margs\u001b[49m\u001b[43m)\u001b[49m\n",
      "\u001b[0;31mRuntimeError\u001b[0m: Standard_OutOfRangeNCollection_Sequence::Value raised from method Shape of class XSControl_Reader"
     ]
    }
   ],
   "source": [
    "input_file = \"Ventilator.stp\"\n",
    "\n",
    "step_reader = STEPControl_Reader()\n",
    "status = step_reader.ReadFile( input_file )\n",
    "\n",
    "if status == IFSelect_RetDone:  # check status\n",
    "    failsonly = False\n",
    "    step_reader.PrintCheckLoad(failsonly, IFSelect_ItemsByEntity)\n",
    "    step_reader.PrintCheckTransfer(failsonly, IFSelect_ItemsByEntity)\n",
    "    aResShape = step_reader.Shape(1)\n",
    "else:\n",
    "    print(\"Error: can't read file.\")\n",
    "    sys.exit(0)"
   ]
  },
  {
   "cell_type": "code",
   "execution_count": null,
   "id": "1d8638cf",
   "metadata": {},
   "outputs": [],
   "source": []
  },
  {
   "cell_type": "code",
   "execution_count": null,
   "id": "b6c9c442",
   "metadata": {},
   "outputs": [],
   "source": []
  },
  {
   "cell_type": "code",
   "execution_count": null,
   "id": "a6a8d293",
   "metadata": {},
   "outputs": [],
   "source": []
  }
 ],
 "metadata": {
  "kernelspec": {
   "display_name": "occ",
   "language": "python",
   "name": "occ"
  },
  "language_info": {
   "codemirror_mode": {
    "name": "ipython",
    "version": 3
   },
   "file_extension": ".py",
   "mimetype": "text/x-python",
   "name": "python",
   "nbconvert_exporter": "python",
   "pygments_lexer": "ipython3",
   "version": "3.9.13"
  }
 },
 "nbformat": 4,
 "nbformat_minor": 5
}
