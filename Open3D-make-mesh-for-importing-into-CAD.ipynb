{
 "cells": [
  {
   "cell_type": "markdown",
   "id": "354436d3",
   "metadata": {},
   "source": [
    "# Make mesh data for importing into FreeCAD"
   ]
  },
  {
   "cell_type": "markdown",
   "id": "5b5fe203",
   "metadata": {},
   "source": [
    "Using the Open3D Python package"
   ]
  },
  {
   "cell_type": "code",
   "execution_count": 1,
   "id": "44364f70",
   "metadata": {},
   "outputs": [
    {
     "name": "stdout",
     "output_type": "stream",
     "text": [
      "[Warning] Since Open3D 0.15, installing Open3D via conda is deprecated. Please re-install Open3D via: `pip install open3d -U`.\n"
     ]
    }
   ],
   "source": [
    "import os\n",
    "import numpy as np\n",
    "import open3d as o3d"
   ]
  },
  {
   "cell_type": "code",
   "execution_count": 2,
   "id": "a0596006",
   "metadata": {},
   "outputs": [],
   "source": [
    "data_dir = \"data\""
   ]
  },
  {
   "cell_type": "markdown",
   "id": "494bac91",
   "metadata": {},
   "source": [
    "## Examples from Open3D docs"
   ]
  },
  {
   "cell_type": "code",
   "execution_count": 3,
   "id": "2f8e423e",
   "metadata": {},
   "outputs": [
    {
     "name": "stdout",
     "output_type": "stream",
     "text": [
      "TriangleMesh with 1440 points and 2880 triangles.\n",
      "Vertices:\n",
      "[[  4.51268387  28.68865967 -76.55680847]\n",
      " [  7.63622284  35.52046967 -69.78063965]\n",
      " [  6.21986008  44.22465134 -64.82303619]\n",
      " ...\n",
      " [-22.12651634  31.28466606 -87.37570953]\n",
      " [-13.91188431  25.4865818  -86.25827026]\n",
      " [ -5.27768707  23.36245346 -81.43279266]]\n",
      "Triangles:\n",
      "[[   0   12   13]\n",
      " [   0   13    1]\n",
      " [   1   13   14]\n",
      " ...\n",
      " [1438   11 1439]\n",
      " [1439   11    0]\n",
      " [1439    0 1428]]\n"
     ]
    }
   ],
   "source": [
    "armadillo_mesh = o3d.data.ArmadilloMesh()\n",
    "mesh = o3d.io.read_triangle_mesh(armadillo_mesh.path)\n",
    "\n",
    "knot_mesh = o3d.data.KnotMesh()\n",
    "mesh = o3d.io.read_triangle_mesh(knot_mesh.path)\n",
    "print(mesh)\n",
    "print('Vertices:')\n",
    "print(np.asarray(mesh.vertices))\n",
    "print('Triangles:')\n",
    "print(np.asarray(mesh.triangles))"
   ]
  },
  {
   "cell_type": "code",
   "execution_count": 4,
   "id": "0cf973db",
   "metadata": {},
   "outputs": [],
   "source": [
    "o3d.visualization.draw_geometries([mesh])"
   ]
  },
  {
   "cell_type": "code",
   "execution_count": 5,
   "id": "9f471d36",
   "metadata": {},
   "outputs": [
    {
     "data": {
      "text/plain": [
       "(1440, 3)"
      ]
     },
     "execution_count": 5,
     "metadata": {},
     "output_type": "execute_result"
    }
   ],
   "source": [
    "np.asarray(mesh.vertices).shape"
   ]
  },
  {
   "cell_type": "code",
   "execution_count": 6,
   "id": "526476f6",
   "metadata": {},
   "outputs": [
    {
     "data": {
      "text/plain": [
       "array([[   0,   12,   13],\n",
       "       [   0,   13,    1],\n",
       "       [   1,   13,   14],\n",
       "       ...,\n",
       "       [1438,   11, 1439],\n",
       "       [1439,   11,    0],\n",
       "       [1439,    0, 1428]], dtype=int32)"
      ]
     },
     "execution_count": 6,
     "metadata": {},
     "output_type": "execute_result"
    }
   ],
   "source": [
    "np.asarray(mesh.triangles)"
   ]
  },
  {
   "cell_type": "code",
   "execution_count": 15,
   "id": "e3b1805b",
   "metadata": {},
   "outputs": [
    {
     "data": {
      "text/plain": [
       "(1440, 3)"
      ]
     },
     "execution_count": 15,
     "metadata": {},
     "output_type": "execute_result"
    }
   ],
   "source": [
    "vertices = np.asarray(mesh.vertices)\n",
    "vertices.shape"
   ]
  },
  {
   "cell_type": "code",
   "execution_count": 23,
   "id": "4f4340af",
   "metadata": {},
   "outputs": [
    {
     "data": {
      "text/plain": [
       "(2880, 3)"
      ]
     },
     "execution_count": 23,
     "metadata": {},
     "output_type": "execute_result"
    }
   ],
   "source": [
    "triangles = np.asarray(mesh.triangles)\n",
    "triangles.shape"
   ]
  },
  {
   "cell_type": "code",
   "execution_count": 26,
   "id": "c10770db",
   "metadata": {},
   "outputs": [
    {
     "data": {
      "text/plain": [
       "array([[  4.51268387,  28.68865967, -76.55680847],\n",
       "       [  7.50471115,  31.48498535, -79.55582428],\n",
       "       [ 10.86927032,  39.31740952, -74.10792542]])"
      ]
     },
     "execution_count": 26,
     "metadata": {},
     "output_type": "execute_result"
    }
   ],
   "source": [
    "# Combine vertices and triangles arrays into one large\n",
    "# array of triangle vertices\n",
    "triangle = triangles[0]\n",
    "vertices[triangle]"
   ]
  },
  {
   "cell_type": "code",
   "execution_count": 29,
   "id": "f30876b8",
   "metadata": {},
   "outputs": [
    {
     "data": {
      "text/plain": [
       "array([[  4.51268387,  28.68865967, -76.55680847],\n",
       "       [ 10.86927032,  39.31740952, -74.10792542],\n",
       "       [  7.63622284,  35.52046967, -69.78063965]])"
      ]
     },
     "execution_count": 29,
     "metadata": {},
     "output_type": "execute_result"
    }
   ],
   "source": [
    "vertices[triangles[1]]"
   ]
  },
  {
   "cell_type": "code",
   "execution_count": 30,
   "id": "a789bf7e",
   "metadata": {},
   "outputs": [
    {
     "data": {
      "text/plain": [
       "array([[  7.63622284,  35.52046967, -69.78063965],\n",
       "       [ 10.86927032,  39.31740952, -74.10792542],\n",
       "       [  9.63236618,  48.72576141, -70.60083771]])"
      ]
     },
     "execution_count": 30,
     "metadata": {},
     "output_type": "execute_result"
    }
   ],
   "source": [
    "vertices[triangles[2]]"
   ]
  },
  {
   "cell_type": "code",
   "execution_count": 31,
   "id": "f91fc7f5",
   "metadata": {},
   "outputs": [
    {
     "data": {
      "text/plain": [
       "(3, 3, 3)"
      ]
     },
     "execution_count": 31,
     "metadata": {},
     "output_type": "execute_result"
    }
   ],
   "source": [
    "vertices[triangles[0:3]].shape"
   ]
  },
  {
   "cell_type": "code",
   "execution_count": 32,
   "id": "8867193d",
   "metadata": {},
   "outputs": [
    {
     "data": {
      "text/plain": [
       "array([[  4.51268387,  28.68865967, -76.55680847],\n",
       "       [  7.50471115,  31.48498535, -79.55582428],\n",
       "       [ 10.86927032,  39.31740952, -74.10792542],\n",
       "       [  4.51268387,  28.68865967, -76.55680847],\n",
       "       [ 10.86927032,  39.31740952, -74.10792542],\n",
       "       [  7.63622284,  35.52046967, -69.78063965],\n",
       "       [  7.63622284,  35.52046967, -69.78063965],\n",
       "       [ 10.86927032,  39.31740952, -74.10792542],\n",
       "       [  9.63236618,  48.72576141, -70.60083771]])"
      ]
     },
     "execution_count": 32,
     "metadata": {},
     "output_type": "execute_result"
    }
   ],
   "source": [
    "vertices[triangles[0:3]].reshape(9, 3)"
   ]
  },
  {
   "cell_type": "code",
   "execution_count": 34,
   "id": "d78aa6c8",
   "metadata": {},
   "outputs": [
    {
     "data": {
      "text/plain": [
       "(8640, 3)"
      ]
     },
     "execution_count": 34,
     "metadata": {},
     "output_type": "execute_result"
    }
   ],
   "source": [
    "triangle_data = vertices[triangles].reshape(-1, 3)\n",
    "triangle_data.shape"
   ]
  },
  {
   "cell_type": "code",
   "execution_count": 35,
   "id": "e835846b",
   "metadata": {},
   "outputs": [],
   "source": [
    "filename = \"armadillo_mesh.csv\"\n",
    "np.savetxt(os.path.join(data_dir, filename), triangle_data)"
   ]
  },
  {
   "cell_type": "code",
   "execution_count": 36,
   "id": "49699404",
   "metadata": {},
   "outputs": [
    {
     "data": {
      "text/plain": [
       "(8640, 3)"
      ]
     },
     "execution_count": 36,
     "metadata": {},
     "output_type": "execute_result"
    }
   ],
   "source": [
    "triangle_data = np.loadtxt(os.path.join(data_dir, filename))\n",
    "triangle_data.shape"
   ]
  },
  {
   "cell_type": "code",
   "execution_count": 37,
   "id": "65d7db5e",
   "metadata": {},
   "outputs": [],
   "source": [
    "assert(triangle_data.shape == (8640, 3))"
   ]
  },
  {
   "cell_type": "code",
   "execution_count": null,
   "id": "900d7394",
   "metadata": {},
   "outputs": [],
   "source": []
  },
  {
   "cell_type": "code",
   "execution_count": null,
   "id": "b677cbc0",
   "metadata": {},
   "outputs": [],
   "source": []
  },
  {
   "cell_type": "code",
   "execution_count": null,
   "id": "8326875e",
   "metadata": {},
   "outputs": [],
   "source": []
  },
  {
   "cell_type": "code",
   "execution_count": null,
   "id": "ab596521",
   "metadata": {},
   "outputs": [],
   "source": []
  }
 ],
 "metadata": {
  "kernelspec": {
   "display_name": "occ",
   "language": "python",
   "name": "occ"
  },
  "language_info": {
   "codemirror_mode": {
    "name": "ipython",
    "version": 3
   },
   "file_extension": ".py",
   "mimetype": "text/x-python",
   "name": "python",
   "nbconvert_exporter": "python",
   "pygments_lexer": "ipython3",
   "version": "3.9.13"
  }
 },
 "nbformat": 4,
 "nbformat_minor": 5
}
