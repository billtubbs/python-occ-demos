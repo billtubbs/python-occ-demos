{
 "cells": [
  {
   "cell_type": "markdown",
   "id": "4af8172d",
   "metadata": {},
   "source": [
    "# Geometry introduction"
   ]
  },
  {
   "cell_type": "code",
   "execution_count": 1,
   "id": "6abbe11e",
   "metadata": {},
   "outputs": [],
   "source": [
    "from OCC.Core.gp import gp_Pnt, gp_Pln, gp_Dir"
   ]
  },
  {
   "cell_type": "code",
   "execution_count": 2,
   "id": "453755c0",
   "metadata": {},
   "outputs": [],
   "source": [
    "# create points\n",
    "pnt1 = gp_Pnt(0,0,0)\n",
    "\n",
    "# create direction\n",
    "dir1 = gp_Dir(0,0,1)\n",
    "\n",
    "# create a plane\n",
    "plane = gp_Pln(pnt1, dir1) # Z=0 plan / XY plan"
   ]
  },
  {
   "cell_type": "markdown",
   "id": "5c6d0087",
   "metadata": {},
   "source": [
    "## 2D geometry"
   ]
  },
  {
   "cell_type": "code",
   "execution_count": 3,
   "id": "1de9b37a",
   "metadata": {},
   "outputs": [],
   "source": [
    "from OCC.Display.SimpleGui import init_display\n",
    "from OCC.Core.gp import gp_Lin2d, gp_Pnt2d, gp_Dir2d\n",
    "from OCC.Extend.ShapeFactory import make_edge2d"
   ]
  },
  {
   "cell_type": "code",
   "execution_count": 4,
   "id": "f6a6957d",
   "metadata": {},
   "outputs": [
    {
     "name": "stdout",
     "output_type": "stream",
     "text": [
      "qt-pyqt5 backend - Qt version 5.15.2\n"
     ]
    }
   ],
   "source": [
    "display, start_display, add_menu, add_function_to_menu = init_display()"
   ]
  },
  {
   "cell_type": "code",
   "execution_count": 5,
   "id": "2f1fb0f4",
   "metadata": {},
   "outputs": [
    {
     "data": {
      "text/plain": [
       "[<class 'AIS_Shape'>]"
      ]
     },
     "execution_count": 5,
     "metadata": {},
     "output_type": "execute_result"
    }
   ],
   "source": [
    "# Creating 2d points\n",
    "p1 = gp_Pnt2d(2.,3.)\n",
    "p2 = gp_Pnt2d(2.,5.)\n",
    "display.DisplayShape(p1)\n",
    "display.DisplayShape(p2, update=True )\n",
    "\n",
    "# Creating a 2d line requires: a point and a direction\n",
    "d1 = gp_Dir2d(1., 1.)\n",
    "l1 = gp_Lin2d(p1, d1)\n",
    "display.DisplayShape(make_edge2d(l1), update=True )"
   ]
  },
  {
   "cell_type": "code",
   "execution_count": 6,
   "id": "08d8bb54",
   "metadata": {},
   "outputs": [],
   "source": [
    "start_display()"
   ]
  },
  {
   "cell_type": "code",
   "execution_count": 7,
   "id": "9a8270a3",
   "metadata": {},
   "outputs": [
    {
     "ename": "ModuleNotFoundError",
     "evalue": "No module named 'OCC.gp'",
     "output_type": "error",
     "traceback": [
      "\u001b[0;31m---------------------------------------------------------------------------\u001b[0m",
      "\u001b[0;31mModuleNotFoundError\u001b[0m                       Traceback (most recent call last)",
      "Cell \u001b[0;32mIn [7], line 1\u001b[0m\n\u001b[0;32m----> 1\u001b[0m \u001b[38;5;28;01mfrom\u001b[39;00m \u001b[38;5;21;01mOCC\u001b[39;00m\u001b[38;5;21;01m.\u001b[39;00m\u001b[38;5;21;01mgp\u001b[39;00m \u001b[38;5;28;01mimport\u001b[39;00m gp_Circ2d, gp_Ax22d\n",
      "\u001b[0;31mModuleNotFoundError\u001b[0m: No module named 'OCC.gp'"
     ]
    }
   ],
   "source": [
    "from OCC.gp import gp_Circ2d, gp_Ax22d"
   ]
  },
  {
   "cell_type": "code",
   "execution_count": null,
   "id": "afca655f",
   "metadata": {},
   "outputs": [],
   "source": [
    "from OCC.Extend.ShapeFactory import gp_Ax2, gp_"
   ]
  },
  {
   "cell_type": "code",
   "execution_count": null,
   "id": "ca98cf62",
   "metadata": {},
   "outputs": [],
   "source": []
  }
 ],
 "metadata": {
  "kernelspec": {
   "display_name": "occ",
   "language": "python",
   "name": "occ"
  },
  "language_info": {
   "codemirror_mode": {
    "name": "ipython",
    "version": 3
   },
   "file_extension": ".py",
   "mimetype": "text/x-python",
   "name": "python",
   "nbconvert_exporter": "python",
   "pygments_lexer": "ipython3",
   "version": "3.9.13"
  }
 },
 "nbformat": 4,
 "nbformat_minor": 5
}
