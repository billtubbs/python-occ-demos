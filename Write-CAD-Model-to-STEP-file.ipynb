{
 "cells": [
  {
   "cell_type": "markdown",
   "id": "c5e6b022",
   "metadata": {},
   "source": [
    "# Write CAD Model to STEP file"
   ]
  },
  {
   "cell_type": "code",
   "execution_count": 1,
   "id": "9fab7586",
   "metadata": {},
   "outputs": [],
   "source": [
    "from OCC.Core.BRepPrimAPI import BRepPrimAPI_MakeBox\n",
    "\n",
    "from OCC.Core.STEPControl import STEPControl_Writer, STEPControl_AsIs\n",
    "from OCC.Core.Interface import Interface_Static_SetCVal\n",
    "from OCC.Core.IFSelect import IFSelect_RetDone"
   ]
  },
  {
   "cell_type": "markdown",
   "id": "b2fa9ad3",
   "metadata": {},
   "source": [
    "## Create a basic shape"
   ]
  },
  {
   "cell_type": "code",
   "execution_count": 3,
   "id": "4987c128",
   "metadata": {},
   "outputs": [],
   "source": [
    "# Make a box\n",
    "box_s = BRepPrimAPI_MakeBox(10, 20, 30).Shape()"
   ]
  },
  {
   "cell_type": "markdown",
   "id": "e0593956",
   "metadata": {},
   "source": [
    "## Open viewer to visualise box"
   ]
  },
  {
   "cell_type": "code",
   "execution_count": 4,
   "id": "5353baa6",
   "metadata": {},
   "outputs": [
    {
     "name": "stdout",
     "output_type": "stream",
     "text": [
      "qt-pyqt5 backend - Qt version 5.15.2\n"
     ]
    }
   ],
   "source": [
    "from OCC.Display.SimpleGui import init_display\n",
    "\n",
    "display, start_display, add_menu, add_function_to_menu = init_display()\n",
    "\n",
    "my_box = BRepPrimAPI_MakeBox(10.,20.,30.).Shape()\n",
    "\n",
    "display.DisplayShape(my_box, update=True )\n",
    "start_display()"
   ]
  },
  {
   "cell_type": "markdown",
   "id": "fcd26a64",
   "metadata": {},
   "source": [
    "## Save to STEP file"
   ]
  },
  {
   "cell_type": "code",
   "execution_count": 5,
   "id": "5223362d",
   "metadata": {},
   "outputs": [
    {
     "name": "stdout",
     "output_type": "stream",
     "text": [
      "<class 'Transfer_FinderProcess'>\n"
     ]
    }
   ],
   "source": [
    "# initialize the STEP exporter\n",
    "step_writer = STEPControl_Writer()\n",
    "dd = step_writer.WS().TransferWriter().FinderProcess()\n",
    "print(dd)"
   ]
  },
  {
   "cell_type": "code",
   "execution_count": 6,
   "id": "128682ab",
   "metadata": {},
   "outputs": [
    {
     "name": "stdout",
     "output_type": "stream",
     "text": [
      "####### 3D rendering pipe initialisation #####\n",
      "Display3d class initialization starting ...\n",
      "Aspect_DisplayConnection created.\n",
      "OpenGl_GraphicDriver created.\n",
      "V3d_Viewer created.\n",
      "AIS_InteractiveContext created.\n",
      "V3d_View created\n",
      "Cocoa window created.\n",
      "Display3d class successfully initialized.\n",
      "#########################################\n",
      "OpenGl information:\n",
      "  GLvendor: Intel Inc.\n",
      "  GLdevice: Intel HD Graphics 4000 OpenGL Engine\n",
      "  GLversion: 2.1 INTEL-14.7.28\n",
      "  GLSLversion: 1.20\n",
      "  Max texture size: 16384\n",
      "  Max FBO dump size: 16384x16384\n",
      "  Max combined texture units: 16\n",
      "  Max MSAA samples: 0\n",
      "  Viewport: 1023x767\n",
      "  ResolutionRatio: 1\n",
      "\u001b[32;1m\n",
      "*******************************************************************\n",
      "******        Statistics on Transfer (Write)                 ******\u001b[0m\n",
      "\u001b[32;1m\n",
      "*******************************************************************\n",
      "******        Transfer Mode = 0  I.E.  As Is       ******\u001b[0m\n",
      "\u001b[32;1m******        Transferring Shape, ShapeType = 2                      ******\u001b[0m\n",
      "\u001b[32;1m** WorkSession : Sending all data\u001b[0m\n",
      "\u001b[32;1m Step File Name : box.stp(380 ents)  Write  Done\u001b[0m\n"
     ]
    }
   ],
   "source": [
    "Interface_Static_SetCVal(\"write.step.schema\", \"AP203\")\n",
    "\n",
    "# transfer shapes and write file\n",
    "step_writer.Transfer(box_s, STEPControl_AsIs)\n",
    "status = step_writer.Write(\"box.stp\")\n",
    "\n",
    "if status != IFSelect_RetDone:\n",
    "    raise AssertionError(\"load failed\")"
   ]
  },
  {
   "cell_type": "code",
   "execution_count": null,
   "id": "c43de427",
   "metadata": {},
   "outputs": [],
   "source": []
  },
  {
   "cell_type": "code",
   "execution_count": null,
   "id": "672fbd58",
   "metadata": {},
   "outputs": [],
   "source": []
  },
  {
   "cell_type": "code",
   "execution_count": null,
   "id": "0e6273e8",
   "metadata": {},
   "outputs": [],
   "source": []
  }
 ],
 "metadata": {
  "kernelspec": {
   "display_name": "occ",
   "language": "python",
   "name": "occ"
  },
  "language_info": {
   "codemirror_mode": {
    "name": "ipython",
    "version": 3
   },
   "file_extension": ".py",
   "mimetype": "text/x-python",
   "name": "python",
   "nbconvert_exporter": "python",
   "pygments_lexer": "ipython3",
   "version": "3.9.13"
  }
 },
 "nbformat": 4,
 "nbformat_minor": 5
}
